{
 "cells": [
  {
   "cell_type": "markdown",
   "metadata": {},
   "source": [
    "# FINAL PROJECT SUBMISSION\n",
    "\n",
    "- Student Name: Ian Korir\n",
    "- Student Pase: Hybrid student\n",
    "- Scheduled Project Review: 22/03/2024\n",
    "- Instructor Name: Nikita Njoroge\n",
    "- Blog Post: \n",
    "\n"
   ]
  },
  {
   "cell_type": "markdown",
   "metadata": {},
   "source": []
  }
 ],
 "metadata": {
  "language_info": {
   "name": "python"
  }
 },
 "nbformat": 4,
 "nbformat_minor": 2
}
