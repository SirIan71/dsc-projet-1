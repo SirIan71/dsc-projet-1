{
 "cells": [
  {
   "cell_type": "markdown",
   "metadata": {},
   "source": [
    "# FINAL PROJECT SUBMISSION\n",
    "\n",
    "- Student Name: Ian Korir\n",
    "- Student Pase: Fulltime-Hybrid student\n",
    "- Scheduled Project Review: 22/03/2024\n",
    "- Instructor Name: Nikita Njoroge\n",
    "- Blog Post: \n",
    "\n"
   ]
  },
  {
   "cell_type": "markdown",
   "metadata": {},
   "source": [
    "## Introduction\n",
    "\n",
    "### Overview\n",
    "\n",
    "The main goal of this project is to come up with insights to help SIRIAN Dealership in optimizing inventory management practices. By analyzing the sales transactions of vehicles, the dealership can gain insights into customer preferences, market demand and pricing strategies, which are crucial factors in inventory management."
   ]
  },
  {
   "cell_type": "markdown",
   "metadata": {},
   "source": []
  }
 ],
 "metadata": {
  "language_info": {
   "name": "python"
  }
 },
 "nbformat": 4,
 "nbformat_minor": 2
}
