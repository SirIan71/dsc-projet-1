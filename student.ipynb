{
 "cells": [
  {
   "cell_type": "markdown",
   "metadata": {},
   "source": [
    "# FINAL PROJECT SUBMISSION\n",
    "\n",
    "- Student Name: Ian Korir\n",
    "- Student Pase: Fulltime-Hybrid student\n",
    "- Scheduled Project Review: 22/03/2024\n",
    "- Instructor Name: Nikita Njoroge\n",
    "- Blog Post: \n",
    "\n"
   ]
  },
  {
   "cell_type": "markdown",
   "metadata": {},
   "source": [
    "## Introduction\n",
    "\n",
    "### Overview\n",
    "\n",
    "The main goal of this project is to come up with insights to help SIRIAN Car Dealership in optimizing inventory management practices. By analyzing the sales transactions of vehicles, the dealership can gain insights into customer preferences, market demand and pricing strategies, which are crucial factors in inventory management."
   ]
  },
  {
   "cell_type": "markdown",
   "metadata": {},
   "source": [
    "## DATA UNDERSTANDING\n",
    "The \"Vehicle Sales and Market Trends Dataset\" provides a comprehensive collection of information pertaining to the sales transactions of various vehicles. This dataset encompasses details such as the year, make, model, trim, body type, transmission type, VIN (Vehicle Identification Number), state of registration, condition rating, odometer reading, exterior and interior colors, seller information, Manheim Market Report (MMR) values, selling prices, and sale dates.\n",
    "\n",
    "### Key Features\n",
    "\n",
    "Vehicle Details: Includes specific information about each vehicle, such as its make, model, trim, and manufacturing year.\n",
    "\n",
    "Transaction Information: Provides insights into the sales transactions, including selling prices and sale dates.\n",
    "\n",
    "Market Trends: MMR values offer an estimate of the market value of each vehicle, allowing for analysis of market trends and fluctuations.\n",
    "\n",
    "Condition and Mileage: Contains data on the condition of the vehicles as well as their odometer readings, enabling analysis of how these factors influence selling prices."
   ]
  },
  {
   "cell_type": "code",
   "execution_count": 2,
   "metadata": {},
   "outputs": [],
   "source": [
    "# importing required libraries\n",
    "import pandas as pd\n",
    "import matplotlib.pyplot as plt\n",
    "import csv"
   ]
  },
  {
   "cell_type": "code",
   "execution_count": 3,
   "metadata": {},
   "outputs": [
    {
     "name": "stdout",
     "output_type": "stream",
     "text": [
      "<class 'pandas.core.frame.DataFrame'>\n",
      "RangeIndex: 558837 entries, 0 to 558836\n",
      "Data columns (total 16 columns):\n",
      " #   Column        Non-Null Count   Dtype  \n",
      "---  ------        --------------   -----  \n",
      " 0   year          558837 non-null  int64  \n",
      " 1   make          548536 non-null  object \n",
      " 2   model         548438 non-null  object \n",
      " 3   trim          548186 non-null  object \n",
      " 4   body          545642 non-null  object \n",
      " 5   transmission  493485 non-null  object \n",
      " 6   vin           558833 non-null  object \n",
      " 7   state         558837 non-null  object \n",
      " 8   condition     547017 non-null  float64\n",
      " 9   odometer      558743 non-null  float64\n",
      " 10  color         558088 non-null  object \n",
      " 11  interior      558088 non-null  object \n",
      " 12  seller        558837 non-null  object \n",
      " 13  mmr           558799 non-null  float64\n",
      " 14  sellingprice  558825 non-null  float64\n",
      " 15  saledate      558825 non-null  object \n",
      "dtypes: float64(4), int64(1), object(11)\n",
      "memory usage: 68.2+ MB\n"
     ]
    }
   ],
   "source": [
    "#read file into pandas dataframe\n",
    "df = pd.read_csv('car_prices.csv')\n",
    "\n",
    "# get summary of the dataframe\n",
    "df.info()"
   ]
  },
  {
   "cell_type": "code",
   "execution_count": 4,
   "metadata": {},
   "outputs": [
    {
     "name": "stdout",
     "output_type": "stream",
     "text": [
      "Total Missing Values: \n",
      "year                0\n",
      "make            10301\n",
      "model           10399\n",
      "trim            10651\n",
      "body            13195\n",
      "transmission    65352\n",
      "vin                 4\n",
      "state               0\n",
      "condition       11820\n",
      "odometer           94\n",
      "color             749\n",
      "interior          749\n",
      "seller              0\n",
      "mmr                38\n",
      "sellingprice       12\n",
      "saledate           12\n",
      "dtype: int64\n"
     ]
    }
   ],
   "source": [
    "# check for missing values\n",
    "missing_values = df.isnull().sum()\n",
    "\n",
    "# display total number \n",
    "print(f\"Total Missing Values: \\n{missing_values}\")"
   ]
  },
  {
   "cell_type": "code",
   "execution_count": 5,
   "metadata": {},
   "outputs": [
    {
     "name": "stdout",
     "output_type": "stream",
     "text": [
      "<class 'pandas.core.frame.DataFrame'>\n",
      "Index: 472325 entries, 0 to 558836\n",
      "Data columns (total 16 columns):\n",
      " #   Column        Non-Null Count   Dtype  \n",
      "---  ------        --------------   -----  \n",
      " 0   year          472325 non-null  int64  \n",
      " 1   make          472325 non-null  object \n",
      " 2   model         472325 non-null  object \n",
      " 3   trim          472325 non-null  object \n",
      " 4   body          472325 non-null  object \n",
      " 5   transmission  472325 non-null  object \n",
      " 6   vin           472325 non-null  object \n",
      " 7   state         472325 non-null  object \n",
      " 8   condition     472325 non-null  float64\n",
      " 9   odometer      472325 non-null  float64\n",
      " 10  color         472325 non-null  object \n",
      " 11  interior      472325 non-null  object \n",
      " 12  seller        472325 non-null  object \n",
      " 13  mmr           472325 non-null  float64\n",
      " 14  sellingprice  472325 non-null  float64\n",
      " 15  saledate      472325 non-null  object \n",
      "dtypes: float64(4), int64(1), object(11)\n",
      "memory usage: 61.3+ MB\n"
     ]
    }
   ],
   "source": [
    "# drop rows with missing values\n",
    "cleaned_df = df.dropna()\n",
    "cleaned_df.info()"
   ]
  },
  {
   "cell_type": "code",
   "execution_count": 6,
   "metadata": {},
   "outputs": [
    {
     "name": "stdout",
     "output_type": "stream",
     "text": [
      "(472325, 16)\n"
     ]
    },
    {
     "data": {
      "text/plain": [
       "year            0\n",
       "make            0\n",
       "model           0\n",
       "trim            0\n",
       "body            0\n",
       "transmission    0\n",
       "vin             0\n",
       "state           0\n",
       "condition       0\n",
       "odometer        0\n",
       "color           0\n",
       "interior        0\n",
       "seller          0\n",
       "mmr             0\n",
       "sellingprice    0\n",
       "saledate        0\n",
       "dtype: int64"
      ]
     },
     "execution_count": 6,
     "metadata": {},
     "output_type": "execute_result"
    }
   ],
   "source": [
    "print(cleaned_df.shape)\n",
    "cleaned_df.isna().sum()"
   ]
  },
  {
   "cell_type": "markdown",
   "metadata": {},
   "source": [
    "The cleaned dataframe from vehicle sales has 472,325 rows and 16 columns namely: year ,make,trim,body,transmission, vin, state, condition,      odometer, color,  interior,seller,mmr, sellingprice, saledate. There are no missing values.        "
   ]
  },
  {
   "cell_type": "markdown",
   "metadata": {},
   "source": [
    "Finding out the top five car make brands sold against the total number of cars sold."
   ]
  },
  {
   "cell_type": "markdown",
   "metadata": {},
   "source": [
    "Changed saledate column to datetime format"
   ]
  },
  {
   "cell_type": "code",
   "execution_count": 34,
   "metadata": {},
   "outputs": [
    {
     "name": "stdout",
     "output_type": "stream",
     "text": [
      "Updated DataFrame with saledate column in standard datetime format:\n",
      "     year   make                model        trim   body transmission  \\\n",
      "0  2014.0    Kia              Sorento          LX    SUV    automatic   \n",
      "1  2014.0    Kia              Sorento          LX    SUV    automatic   \n",
      "2  2015.0    BMW             3 Series  328i SULEV  Sedan    automatic   \n",
      "3  2015.0  Volvo                  S60          T5  Sedan    automatic   \n",
      "4  2014.0    BMW  6 Series Gran Coupe        650i  Sedan    automatic   \n",
      "\n",
      "                 vin state  condition  odometer  color interior  \\\n",
      "0  5xyktca69fg566472    ca        5.0   16639.0  white    black   \n",
      "1  5xyktca69fg561319    ca        5.0    9393.0  white    beige   \n",
      "2  wba3c1c51ek116351    ca       45.0    1331.0   gray    black   \n",
      "3  yv1612tb4f1310987    ca       41.0   14282.0  white    black   \n",
      "4  wba6b2c57ed129731    ca       43.0    2641.0   gray    black   \n",
      "\n",
      "                                   seller      mmr  sellingprice  \\\n",
      "0                 kia motors america  inc  20500.0       21500.0   \n",
      "1                 kia motors america  inc  20800.0       21500.0   \n",
      "2  financial services remarketing (lease)  31900.0       30000.0   \n",
      "3                 volvo na rep/world omni  27500.0       27750.0   \n",
      "4  financial services remarketing (lease)  66000.0       67000.0   \n",
      "\n",
      "                   saledate   month  \n",
      "0 2014-12-16 12:30:00+08:00  2014.0  \n",
      "1 2014-12-16 12:30:00+08:00  2014.0  \n",
      "2 2015-01-15 04:30:00+08:00  2015.0  \n",
      "3 2015-01-29 04:30:00+08:00  2015.0  \n",
      "4 2014-12-18 12:30:00+08:00  2014.0  \n"
     ]
    },
    {
     "name": "stderr",
     "output_type": "stream",
     "text": [
      "C:\\Users\\user\\AppData\\Local\\Temp\\ipykernel_25012\\2112219799.py:2: UserWarning: The argument 'infer_datetime_format' is deprecated and will be removed in a future version. A strict version of it is now the default, see https://pandas.pydata.org/pdeps/0004-consistent-to-datetime-parsing.html. You can safely remove this argument.\n",
      "  df['saledate'] = pd.to_datetime(df['saledate'], errors='coerce', infer_datetime_format=True)\n"
     ]
    }
   ],
   "source": [
    "# convert saledate column to datetime format\n",
    "df['saledate'] = pd.to_datetime(df['saledate'], errors='coerce', infer_datetime_format=True)\n",
    "\n",
    "# Display the DataFrame with the updated datetime format\n",
    "print(\"Updated DataFrame with saledate column in standard datetime format:\")\n",
    "print(df.head())  "
   ]
  },
  {
   "cell_type": "code",
   "execution_count": 99,
   "metadata": {},
   "outputs": [
    {
     "name": "stdout",
     "output_type": "stream",
     "text": [
      "Top 10 Car makes sold over time\n"
     ]
    },
    {
     "data": {
      "text/html": [
       "<div>\n",
       "<style scoped>\n",
       "    .dataframe tbody tr th:only-of-type {\n",
       "        vertical-align: middle;\n",
       "    }\n",
       "\n",
       "    .dataframe tbody tr th {\n",
       "        vertical-align: top;\n",
       "    }\n",
       "\n",
       "    .dataframe thead th {\n",
       "        text-align: right;\n",
       "    }\n",
       "</style>\n",
       "<table border=\"1\" class=\"dataframe\">\n",
       "  <thead>\n",
       "    <tr style=\"text-align: right;\">\n",
       "      <th></th>\n",
       "      <th>year</th>\n",
       "      <th>make</th>\n",
       "      <th>sales_count</th>\n",
       "    </tr>\n",
       "  </thead>\n",
       "  <tbody>\n",
       "    <tr>\n",
       "      <th>106</th>\n",
       "      <td>2015.0</td>\n",
       "      <td>Ford</td>\n",
       "      <td>59067</td>\n",
       "    </tr>\n",
       "    <tr>\n",
       "      <th>99</th>\n",
       "      <td>2015.0</td>\n",
       "      <td>Chevrolet</td>\n",
       "      <td>37236</td>\n",
       "    </tr>\n",
       "    <tr>\n",
       "      <th>127</th>\n",
       "      <td>2015.0</td>\n",
       "      <td>Nissan</td>\n",
       "      <td>32149</td>\n",
       "    </tr>\n",
       "    <tr>\n",
       "      <th>140</th>\n",
       "      <td>2015.0</td>\n",
       "      <td>Toyota</td>\n",
       "      <td>23452</td>\n",
       "    </tr>\n",
       "    <tr>\n",
       "      <th>102</th>\n",
       "      <td>2015.0</td>\n",
       "      <td>Dodge</td>\n",
       "      <td>19271</td>\n",
       "    </tr>\n",
       "    <tr>\n",
       "      <th>110</th>\n",
       "      <td>2015.0</td>\n",
       "      <td>Honda</td>\n",
       "      <td>17109</td>\n",
       "    </tr>\n",
       "    <tr>\n",
       "      <th>111</th>\n",
       "      <td>2015.0</td>\n",
       "      <td>Hyundai</td>\n",
       "      <td>12979</td>\n",
       "    </tr>\n",
       "    <tr>\n",
       "      <th>95</th>\n",
       "      <td>2015.0</td>\n",
       "      <td>BMW</td>\n",
       "      <td>12080</td>\n",
       "    </tr>\n",
       "    <tr>\n",
       "      <th>116</th>\n",
       "      <td>2015.0</td>\n",
       "      <td>Kia</td>\n",
       "      <td>11206</td>\n",
       "    </tr>\n",
       "    <tr>\n",
       "      <th>100</th>\n",
       "      <td>2015.0</td>\n",
       "      <td>Chrysler</td>\n",
       "      <td>10690</td>\n",
       "    </tr>\n",
       "    <tr>\n",
       "      <th>12</th>\n",
       "      <td>2014.0</td>\n",
       "      <td>Ford</td>\n",
       "      <td>7483</td>\n",
       "    </tr>\n",
       "    <tr>\n",
       "      <th>6</th>\n",
       "      <td>2014.0</td>\n",
       "      <td>Chevrolet</td>\n",
       "      <td>6035</td>\n",
       "    </tr>\n",
       "    <tr>\n",
       "      <th>32</th>\n",
       "      <td>2014.0</td>\n",
       "      <td>Nissan</td>\n",
       "      <td>4667</td>\n",
       "    </tr>\n",
       "    <tr>\n",
       "      <th>45</th>\n",
       "      <td>2014.0</td>\n",
       "      <td>Toyota</td>\n",
       "      <td>4040</td>\n",
       "    </tr>\n",
       "    <tr>\n",
       "      <th>16</th>\n",
       "      <td>2014.0</td>\n",
       "      <td>Honda</td>\n",
       "      <td>3424</td>\n",
       "    </tr>\n",
       "    <tr>\n",
       "      <th>9</th>\n",
       "      <td>2014.0</td>\n",
       "      <td>Dodge</td>\n",
       "      <td>2874</td>\n",
       "    </tr>\n",
       "    <tr>\n",
       "      <th>2</th>\n",
       "      <td>2014.0</td>\n",
       "      <td>BMW</td>\n",
       "      <td>2082</td>\n",
       "    </tr>\n",
       "    <tr>\n",
       "      <th>17</th>\n",
       "      <td>2014.0</td>\n",
       "      <td>Hyundai</td>\n",
       "      <td>2071</td>\n",
       "    </tr>\n",
       "    <tr>\n",
       "      <th>29</th>\n",
       "      <td>2014.0</td>\n",
       "      <td>Mercedes-Benz</td>\n",
       "      <td>1789</td>\n",
       "    </tr>\n",
       "    <tr>\n",
       "      <th>7</th>\n",
       "      <td>2014.0</td>\n",
       "      <td>Chrysler</td>\n",
       "      <td>1573</td>\n",
       "    </tr>\n",
       "  </tbody>\n",
       "</table>\n",
       "</div>"
      ],
      "text/plain": [
       "       year           make  sales_count\n",
       "106  2015.0           Ford        59067\n",
       "99   2015.0      Chevrolet        37236\n",
       "127  2015.0         Nissan        32149\n",
       "140  2015.0         Toyota        23452\n",
       "102  2015.0          Dodge        19271\n",
       "110  2015.0          Honda        17109\n",
       "111  2015.0        Hyundai        12979\n",
       "95   2015.0            BMW        12080\n",
       "116  2015.0            Kia        11206\n",
       "100  2015.0       Chrysler        10690\n",
       "12   2014.0           Ford         7483\n",
       "6    2014.0      Chevrolet         6035\n",
       "32   2014.0         Nissan         4667\n",
       "45   2014.0         Toyota         4040\n",
       "16   2014.0          Honda         3424\n",
       "9    2014.0          Dodge         2874\n",
       "2    2014.0            BMW         2082\n",
       "17   2014.0        Hyundai         2071\n",
       "29   2014.0  Mercedes-Benz         1789\n",
       "7    2014.0       Chrysler         1573"
      ]
     },
     "execution_count": 99,
     "metadata": {},
     "output_type": "execute_result"
    }
   ],
   "source": [
    "# extract year from saledate column\n",
    "df['year'] = df['saledate'].dt.year  \n",
    "\n",
    "#  group by year and car make, count sales and select top 10 car make for each year\n",
    "top_5_cars_sold = df.groupby(['year', 'make']).size().reset_index(name='sales_count') \\\n",
    "     .sort_values(['year', 'sales_count'], ascending=[False, False]) \\\n",
    "         .groupby('year').head(10)\n",
    "        \n",
    "print(\"Top 10 Car makes sold over time\")\n",
    "top_10_cars_sold"
   ]
  },
  {
   "cell_type": "markdown",
   "metadata": {},
   "source": [
    "plot the results on a bargraph"
   ]
  },
  {
   "cell_type": "code",
   "execution_count": 100,
   "metadata": {},
   "outputs": [
    {
     "data": {
      "image/png": "[encoded data removed]",
      "text/plain": [
       "<Figure size 1000x600 with 1 Axes>"
      ]
     },
     "metadata": {},
     "output_type": "display_data"
    },
    {
     "data": {
      "image/png": "[encoded data removed]",
      "text/plain": [
       "<Figure size 1000x600 with 1 Axes>"
      ]
     },
     "metadata": {},
     "output_type": "display_data"
    }
   ],
   "source": [
    "# Create a bar graph for each year\n",
    "for year, data in top_5_cars_sold.groupby('year'):\n",
    "    plt.figure(figsize=(10, 6))\n",
    "    plt.bar(data['make'], data['sales_count'], color='skyblue')\n",
    "    plt.xlabel('Car Make')\n",
    "    plt.ylabel('Sale Count in units')\n",
    "    plt.title(f'Sale Count of Top Car Makes in {year}')\n",
    "    plt.xticks(rotation=45, ha='right')\n",
    "    plt.tight_layout()\n",
    "    plt.show()"
   ]
  },
  {
   "cell_type": "markdown",
   "metadata": {},
   "source": []
  },
  {
   "cell_type": "code",
   "execution_count": 101,
   "metadata": {},
   "outputs": [
    {
     "data": {
      "text/plain": [
       "make\n",
       "Ford             81013\n",
       "Chevrolet        54150\n",
       "Nissan           44043\n",
       "Toyota           35313\n",
       "Dodge            27181\n",
       "Honda            24781\n",
       "Hyundai          18659\n",
       "BMW              17509\n",
       "Kia              15828\n",
       "Chrysler         15133\n",
       "Infiniti         14011\n",
       "Mercedes-Benz    14008\n",
       "Jeep             12735\n",
       "Volkswagen       10780\n",
       "Lexus            10409\n",
       "GMC               9217\n",
       "Mazda             6930\n",
       "Cadillac          6315\n",
       "Lincoln           4926\n",
       "Audi              4802\n",
       "Acura             4503\n",
       "Buick             4470\n",
       "Subaru            4369\n",
       "Ram               4044\n",
       "Pontiac           4018\n",
       "Mitsubishi        3661\n",
       "Volvo             3082\n",
       "MINI              2946\n",
       "Saturn            2570\n",
       "Mercury           1571\n",
       "Scion             1545\n",
       "Land Rover        1322\n",
       "Jaguar            1257\n",
       "Porsche           1157\n",
       "Suzuki             977\n",
       "HUMMER             768\n",
       "FIAT               725\n",
       "Saab               416\n",
       "smart              343\n",
       "Oldsmobile         318\n",
       "Isuzu              179\n",
       "Maserati           109\n",
       "Bentley            105\n",
       "Aston Martin        24\n",
       "Tesla               23\n",
       "Ferrari             17\n",
       "Rolls-Royce         16\n",
       "Plymouth            16\n",
       "Geo                 16\n",
       "Fisker               9\n",
       "Lamborghini          3\n",
       "Daewoo               2\n",
       "Lotus                1\n",
       "Name: count, dtype: int64"
      ]
     },
     "execution_count": 101,
     "metadata": {},
     "output_type": "execute_result"
    }
   ],
   "source": [
    "make_sales = cleaned_df['make'].value_counts()\n",
    "make_sales"
   ]
  },
  {
   "cell_type": "code",
   "execution_count": null,
   "metadata": {},
   "outputs": [],
   "source": []
  }
 ],
 "metadata": {
  "kernelspec": {
   "display_name": "base",
   "language": "python",
   "name": "python3"
  },
  "language_info": {
   "codemirror_mode": {
    "name": "ipython",
    "version": 3
   },
   "file_extension": ".py",
   "mimetype": "text/x-python",
   "name": "python",
   "nbconvert_exporter": "python",
   "pygments_lexer": "ipython3",
   "version": "3.11.5"
  }
 },
 "nbformat": 4,
 "nbformat_minor": 2
}
